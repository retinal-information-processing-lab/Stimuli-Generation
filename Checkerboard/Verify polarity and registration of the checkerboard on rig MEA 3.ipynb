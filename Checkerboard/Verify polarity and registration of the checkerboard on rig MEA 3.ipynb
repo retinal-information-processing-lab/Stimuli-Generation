{
 "cells": [
  {
   "cell_type": "markdown",
   "id": "40fc3bb2",
   "metadata": {},
   "source": [
    "# The goal of this notebook is to find the polarity of the checkerboard stimulus displayed on the retina on the MEA 3 rig"
   ]
  },
  {
   "cell_type": "code",
   "execution_count": 1,
   "id": "9f66350b",
   "metadata": {},
   "outputs": [],
   "source": [
    "import numpy as np\n",
    "import matplotlib.pyplot as plt\n",
    "import os\n",
    "from tqdm import tqdm\n",
    "import matplotlib.gridspec as gds\n",
    "import pickle\n",
    "from checkerboard import Checkerboard"
   ]
  },
  {
   "cell_type": "markdown",
   "id": "4a636c97",
   "metadata": {},
   "source": [
    "### Checkerboard on the set-up"
   ]
  },
  {
   "cell_type": "markdown",
   "id": "edbe40cb",
   "metadata": {},
   "source": [
    "Pictures from the set-up"
   ]
  },
  {
   "cell_type": "markdown",
   "id": "1d97f52b",
   "metadata": {},
   "source": [
    "First frame"
   ]
  },
  {
   "cell_type": "code",
   "execution_count": null,
   "id": "b7db0968",
   "metadata": {},
   "outputs": [],
   "source": []
  },
  {
   "cell_type": "markdown",
   "id": "661f096d",
   "metadata": {},
   "source": [
    "Second frame"
   ]
  },
  {
   "cell_type": "code",
   "execution_count": null,
   "id": "103809c3",
   "metadata": {},
   "outputs": [],
   "source": []
  },
  {
   "cell_type": "markdown",
   "id": "cd889297",
   "metadata": {},
   "source": [
    "Digitalisation of the two first frames seen on the camera (5x5 checks)."
   ]
  },
  {
   "cell_type": "code",
   "execution_count": 2,
   "id": "fef47715",
   "metadata": {},
   "outputs": [
    {
     "data": {
      "text/plain": [
       "<matplotlib.image.AxesImage at 0x1d7676c4a90>"
      ]
     },
     "execution_count": 2,
     "metadata": {},
     "output_type": "execute_result"
    },
    {
     "data": {
      "image/png": "[encoded data removed]",
      "text/plain": [
       "<Figure size 432x288 with 1 Axes>"
      ]
     },
     "metadata": {
      "needs_background": "light"
     },
     "output_type": "display_data"
    },
    {
     "data": {
      "image/png": "[encoded data removed]",
      "text/plain": [
       "<Figure size 432x288 with 1 Axes>"
      ]
     },
     "metadata": {
      "needs_background": "light"
     },
     "output_type": "display_data"
    }
   ],
   "source": [
    "# to be changed depending on the pictures of the screen\n",
    "\n",
    "first_frame_camera = np.array([[1,1,0,0,0],\n",
    "                             [1,0,1,1,1],\n",
    "                             [1,1,0,0,0],\n",
    "                             [0,0,0,0,0],\n",
    "                             [0,0,0,0,0]])\n",
    "\n",
    "second_frame_camera = np.array([[0,1,0,0,1],\n",
    "                             [0,0,1,1,1],\n",
    "                             [1,0,1,1,1],\n",
    "                             [1,0,1,0,0],\n",
    "                             [0,0,1,1,1]])\n",
    "\n",
    "plt.figure()\n",
    "plt.imshow(first_frame_camera, cmap='gray')\n",
    "\n",
    "plt.figure()\n",
    "plt.imshow(second_frame_camera, cmap='gray')"
   ]
  },
  {
   "cell_type": "markdown",
   "id": "901d35ab",
   "metadata": {},
   "source": [
    "### Checkerboard reconstructed from the binary source file"
   ]
  },
  {
   "cell_type": "markdown",
   "id": "5f440f7d",
   "metadata": {},
   "source": [
    "The checkerboard stimulus is constructed from the file binarysource1000Mbits, that contains a series of 0 and 1. 0 is supposed to correspond to black, and 1 to white, in the stimulus that is projected on the retina. The checkerboard stimulus can be reconstructed using the Checkerboard class."
   ]
  },
  {
   "cell_type": "code",
   "execution_count": 3,
   "id": "45d5a135",
   "metadata": {},
   "outputs": [
    {
     "name": "stderr",
     "output_type": "stream",
     "text": [
      "Reconstruction the stimulus: 100%|█████████████████████████████████████████████████████| 2/2 [00:00<00:00, 2000.14it/s]\n"
     ]
    }
   ],
   "source": [
    "nb_frames = 2\n",
    "nb_checks_by_side = 5\n",
    "rig_nb = 3\n",
    "\n",
    "binary_source_path = r'C:\\Users\\goethas\\Downloads'\n",
    "binary_source_filepath = os.path.join(binary_source_path,\"binarysource1000Mbits\")\n",
    "\n",
    "checkerboard_object = Checkerboard(nb_checks_by_side, binary_source_filepath, rig_nb) \n",
    "checkerboard = checkerboard_object.build_checkerboard(2)"
   ]
  },
  {
   "cell_type": "code",
   "execution_count": 4,
   "id": "9e273a40",
   "metadata": {},
   "outputs": [],
   "source": [
    "first_frame_reconstructed = checkerboard[0,:,:]\n",
    "second_frame_reconstructed = checkerboard[1,:,:]"
   ]
  },
  {
   "cell_type": "markdown",
   "id": "6b17f9a0",
   "metadata": {},
   "source": [
    "Visual check"
   ]
  },
  {
   "cell_type": "code",
   "execution_count": 5,
   "id": "c068ba53",
   "metadata": {},
   "outputs": [
    {
     "data": {
      "text/plain": [
       "Text(0.5, 1.0, '2nd frame reconstructed')"
      ]
     },
     "execution_count": 5,
     "metadata": {},
     "output_type": "execute_result"
    },
    {
     "data": {
      "image/png": "[encoded data removed]",
      "text/plain": [
       "<Figure size 432x288 with 2 Axes>"
      ]
     },
     "metadata": {
      "needs_background": "light"
     },
     "output_type": "display_data"
    },
    {
     "data": {
      "image/png": "[encoded data removed]",
      "text/plain": [
       "<Figure size 432x288 with 2 Axes>"
      ]
     },
     "metadata": {
      "needs_background": "light"
     },
     "output_type": "display_data"
    }
   ],
   "source": [
    "plt.figure()\n",
    "plt.subplot(121)\n",
    "plt.imshow(first_frame_camera, cmap='gray')\n",
    "plt.title('1st frame camera')\n",
    "plt.subplot(122)\n",
    "plt.imshow(first_frame_reconstructed, cmap='gray')\n",
    "plt.title('1st frame reconstructed')\n",
    "\n",
    "plt.figure()\n",
    "plt.subplot(121)\n",
    "plt.imshow(second_frame_camera, cmap='gray')\n",
    "plt.title('2nd frame camera')\n",
    "plt.subplot(122)\n",
    "plt.imshow(second_frame_reconstructed, cmap='gray')\n",
    "plt.title('2nd frame reconstructed')\n",
    "\n"
   ]
  },
  {
   "cell_type": "markdown",
   "id": "0f9b63ad",
   "metadata": {},
   "source": [
    "Check that arrays are the same."
   ]
  },
  {
   "cell_type": "code",
   "execution_count": 6,
   "id": "baddc102",
   "metadata": {},
   "outputs": [
    {
     "name": "stdout",
     "output_type": "stream",
     "text": [
      "Reconstructed first frame is the same as on camera\n",
      "Reconstructed second frame is the same as on camera\n"
     ]
    }
   ],
   "source": [
    "if first_frame_camera.all() == first_frame_reconstructed.all():\n",
    "    print ('Reconstructed first frame is the same as on camera' )\n",
    "\n",
    "if second_frame_camera.all() == second_frame_reconstructed.all():\n",
    "    print ('Reconstructed second frame is the same as on camera' )"
   ]
  },
  {
   "cell_type": "code",
   "execution_count": null,
   "id": "689278cb",
   "metadata": {},
   "outputs": [],
   "source": []
  }
 ],
 "metadata": {
  "kernelspec": {
   "display_name": "Python 3 (ipykernel)",
   "language": "python",
   "name": "python3"
  },
  "language_info": {
   "codemirror_mode": {
    "name": "ipython",
    "version": 3
   },
   "file_extension": ".py",
   "mimetype": "text/x-python",
   "name": "python",
   "nbconvert_exporter": "python",
   "pygments_lexer": "ipython3",
   "version": "3.8.8"
  }
 },
 "nbformat": 4,
 "nbformat_minor": 5
}
